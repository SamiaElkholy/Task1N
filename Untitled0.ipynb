{
  "nbformat": 4,
  "nbformat_minor": 0,
  "metadata": {
    "colab": {
      "provenance": []
    },
    "kernelspec": {
      "name": "python3",
      "display_name": "Python 3"
    },
    "language_info": {
      "name": "python"
    }
  },
  "cells": [
    {
      "cell_type": "code",
      "execution_count": 5,
      "metadata": {
        "id": "cvGlrxgZ4OIv"
      },
      "outputs": [],
      "source": [
        "import numpy as np\n",
        "import tensorflow as tf\n",
        "import matplotlib.pyplot as plt\n",
        "#import itertools as it\n",
        "%matplotlib inline"
      ]
    },
    {
      "cell_type": "code",
      "source": [
        "def sigmoid(x):\n",
        "    \"\"\"Sigmoid function\"\"\"\n",
        "    return 1.0 / (1.0 + np.exp(-x))"
      ],
      "metadata": {
        "id": "bOxpz7NO5bzf"
      },
      "execution_count": 7,
      "outputs": []
    },
    {
      "cell_type": "code",
      "source": [
        "# Plot The sigmoid function\n",
        "xs = np.linspace(-10, 10, num=100, dtype=np.float32)\n",
        "activation = sigmoid(xs)\n",
        "\n",
        "fig = plt.figure(figsize=(4,3))\n",
        "plt.plot(xs, activation)\n",
        "plt.plot(0,.5,'ro')\n",
        "\n",
        "plt.grid(True, which='both')\n",
        "plt.axhline(y=0, color='y')\n",
        "plt.axvline(x=0, color='y')\n",
        "plt.ylim([-0.1, 1.15])\n",
        "plt.show()"
      ],
      "metadata": {
        "colab": {
          "base_uri": "https://localhost:8080/",
          "height": 291
        },
        "id": "m0UJfWcQ5eWJ",
        "outputId": "d6c52a98-5e4b-4d3e-8f3f-716651385cc6"
      },
      "execution_count": 9,
      "outputs": [
        {
          "output_type": "display_data",
          "data": {
            "text/plain": [
              "<Figure size 400x300 with 1 Axes>"
            ],
            "image/png": "[encoded data removed]"
          },
          "metadata": {}
        }
      ]
    },
    {
      "cell_type": "code",
      "source": [
        "xs = np.linspace(-10, 10, num=100, dtype=np.float32)\n",
        "print(xs)"
      ],
      "metadata": {
        "colab": {
          "base_uri": "https://localhost:8080/"
        },
        "id": "lrM1UgRk5lry",
        "outputId": "f9b94c3a-40ef-44c9-8d3f-05de85e3e219"
      },
      "execution_count": 11,
      "outputs": [
        {
          "output_type": "stream",
          "name": "stdout",
          "text": [
            "[-10.          -9.797979    -9.59596     -9.393939    -9.191919\n",
            "  -8.989899    -8.787879    -8.585858    -8.383839    -8.181818\n",
            "  -7.979798    -7.7777777   -7.5757575   -7.3737373   -7.171717\n",
            "  -6.969697    -6.767677    -6.5656567   -6.3636365   -6.1616163\n",
            "  -5.959596    -5.757576    -5.5555553   -5.353535    -5.151515\n",
            "  -4.949495    -4.7474747   -4.5454545   -4.3434343   -4.141414\n",
            "  -3.939394    -3.7373738   -3.5353534   -3.3333333   -3.131313\n",
            "  -2.929293    -2.7272727   -2.5252526   -2.3232324   -2.121212\n",
            "  -1.919192    -1.7171717   -1.5151515   -1.3131313   -1.1111112\n",
            "  -0.90909094  -0.7070707   -0.5050505   -0.3030303   -0.1010101\n",
            "   0.1010101    0.3030303    0.5050505    0.7070707    0.90909094\n",
            "   1.1111112    1.3131313    1.5151515    1.7171717    1.919192\n",
            "   2.121212     2.3232324    2.5252526    2.7272727    2.929293\n",
            "   3.131313     3.3333333    3.5353534    3.7373738    3.939394\n",
            "   4.141414     4.3434343    4.5454545    4.7474747    4.949495\n",
            "   5.151515     5.353535     5.5555553    5.757576     5.959596\n",
            "   6.1616163    6.3636365    6.5656567    6.767677     6.969697\n",
            "   7.171717     7.3737373    7.5757575    7.7777777    7.979798\n",
            "   8.181818     8.383839     8.585858     8.787879     8.989899\n",
            "   9.191919     9.393939     9.59596      9.797979    10.        ]\n"
          ]
        }
      ]
    },
    {
      "cell_type": "code",
      "source": [
        "# Logic gate function\n",
        "def logic_gate(w1, w2, b, x1, x2):\n",
        "  ''' logic_gate is a function which returns the results of\n",
        "        taking two args and  (hopefully) acts like a logic gate (and/or/not/etc.).\n",
        "        its behavior is determined by w1,w2,b. '''\n",
        "  return sigmoid(w1 * x1 + w2 * x2 + b)"
      ],
      "metadata": {
        "id": "ATRQsf_S5rOz"
      },
      "execution_count": 13,
      "outputs": []
    },
    {
      "cell_type": "code",
      "source": [
        "# Test function that takes a function with two arguments\n",
        "def test_gate(w1, w2, b):\n",
        "  for x1 in range(2):\n",
        "    for x2 in range(2):\n",
        "      print(\"{}, {}: {}\".format(x1, x2, np.round(logic_gate(w1, w2, b, x1, x2))))"
      ],
      "metadata": {
        "id": "WAnW-UDB5x61"
      },
      "execution_count": 14,
      "outputs": []
    },
    {
      "cell_type": "code",
      "source": [
        "or_gate = test_gate(20, 20, -10)"
      ],
      "metadata": {
        "colab": {
          "base_uri": "https://localhost:8080/"
        },
        "id": "6bDI1JXS554p",
        "outputId": "296b0e71-db1b-4dcb-f0c6-8031cdb8719d"
      },
      "execution_count": 22,
      "outputs": [
        {
          "output_type": "stream",
          "name": "stdout",
          "text": [
            "0, 0: 0.0\n",
            "0, 1: 1.0\n",
            "1, 0: 1.0\n",
            "1, 1: 1.0\n"
          ]
        }
      ]
    },
    {
      "cell_type": "code",
      "source": [
        "and_gate = test_gate(15, 15, -20)"
      ],
      "metadata": {
        "colab": {
          "base_uri": "https://localhost:8080/"
        },
        "id": "iy-wcUUv6qIm",
        "outputId": "4821c158-608d-4d57-ca14-5d57ed9d151e"
      },
      "execution_count": 28,
      "outputs": [
        {
          "output_type": "stream",
          "name": "stdout",
          "text": [
            "0, 0: 0.0\n",
            "0, 1: 0.0\n",
            "1, 0: 0.0\n",
            "1, 1: 1.0\n"
          ]
        }
      ]
    },
    {
      "cell_type": "code",
      "source": [
        "nand_gate = test_gate(-15, -15, 20)"
      ],
      "metadata": {
        "colab": {
          "base_uri": "https://localhost:8080/"
        },
        "id": "tsYTZFml9Hmh",
        "outputId": "74ed45a6-407c-4745-8aa7-f0ec5da46a59"
      },
      "execution_count": 29,
      "outputs": [
        {
          "output_type": "stream",
          "name": "stdout",
          "text": [
            "0, 0: 1.0\n",
            "0, 1: 1.0\n",
            "1, 0: 1.0\n",
            "1, 1: 0.0\n"
          ]
        }
      ]
    },
    {
      "cell_type": "code",
      "source": [
        "nor_gate = test_gate(-20, -20, 10)"
      ],
      "metadata": {
        "colab": {
          "base_uri": "https://localhost:8080/"
        },
        "id": "7TP6eJOI9Si6",
        "outputId": "a597742d-7dd9-4396-e413-12708ead0a95"
      },
      "execution_count": 31,
      "outputs": [
        {
          "output_type": "stream",
          "name": "stdout",
          "text": [
            "0, 0: 1.0\n",
            "0, 1: 0.0\n",
            "1, 0: 0.0\n",
            "1, 1: 0.0\n"
          ]
        }
      ]
    },
    {
      "cell_type": "code",
      "source": [
        "b = tf.Variable(tf.zeros([1]))\n",
        "print(b.numpy)"
      ],
      "metadata": {
        "colab": {
          "base_uri": "https://localhost:8080/"
        },
        "id": "MFVbOUQG9ZXm",
        "outputId": "2dc9af3a-e943-4606-87af-68c72cc3255e"
      },
      "execution_count": 47,
      "outputs": [
        {
          "output_type": "stream",
          "name": "stdout",
          "text": [
            "<bound method BaseResourceVariable.numpy of <tf.Variable 'Variable:0' shape=(1,) dtype=float32, numpy=array([0.], dtype=float32)>>\n"
          ]
        }
      ]
    },
    {
      "cell_type": "code",
      "source": [
        "# Define LogicGate Model using tf.Module\n",
        "class LogicGate(tf.Module):\n",
        "    def __init__(self):\n",
        "        super().__init__()\n",
        "        self.built = False  # Track if model is initialized\n",
        "\n",
        "    def __call__(self, x, train=True):\n",
        "        # Initialize weights and bias on first call\n",
        "        if not self.built:\n",
        "            input_dim = x.shape[-1]  # Number of input features\n",
        "            self.w = tf.Variable(tf.random.normal([input_dim, 1]), name=\"weights\")\n",
        "            self.b = tf.Variable(tf.zeros([1]), name=\"bias\")\n",
        "            self.built = True\n",
        "\n",
        "        # Compute logits: z = Wx + b\n",
        "        z = tf.add(tf.matmul(x, self.w), self.b)\n",
        "        return tf.sigmoid(z)  # Apply sigmoid\n",
        "\n",
        "# Loss function (Mean Squared Error)\n",
        "def compute_loss(y_pred, y_true):\n",
        "    return tf.reduce_mean(tf.square(y_pred - y_true))\n",
        "\n",
        "# Training function\n",
        "def train_model(model, x_train, y_train, learning_rate=0.5, epochs=5000):\n",
        "  # Iterate over the training data\n",
        "  for epoch in range(epochs):\n",
        "    with tf.GradientTape() as tape:\n",
        "      y_pred = model(x_train)  # Forward pass\n",
        "      loss = compute_loss(y_pred, y_train)\n",
        "\n",
        "    # Update the parameters with respect to the gradient calculations\n",
        "    grads = tape.gradient(loss, model.variables)\n",
        "    for g,v in zip(grads, model.variables):\n",
        "      v.assign_sub(learning_rate * g)\n",
        "\n",
        "    # Print progress every 1000 epochs\n",
        "    if epoch % 1000 == 0:\n",
        "      acc = compute_accuracy(model, x_train, y_train)\n",
        "      print(f\"Epoch {epoch}, Loss: {loss.numpy():.4f}, Accuracy: {acc:.4f}\")\n",
        "\n",
        "# Accuracy function\n",
        "def compute_accuracy(model, x, y_true):\n",
        "    y_pred = model(x, train=False)\n",
        "    y_pred_rounded = tf.round(y_pred)\n",
        "    correct = tf.equal(y_pred_rounded, y_true)\n",
        "    return tf.reduce_mean(tf.cast(correct, tf.float32)).numpy()\n"
      ],
      "metadata": {
        "id": "azV08Q7BHxUK"
      },
      "execution_count": 49,
      "outputs": []
    },
    {
      "cell_type": "code",
      "source": [
        "import numpy as np\n",
        "import tensorflow as tf\n",
        "\n",
        "class XOR_Model(tf.Module):\n",
        "    def __init__(self):\n",
        "        super().__init__()\n",
        "        self.is_initialized = False\n",
        "\n",
        "    def __call__(self, input_data):\n",
        "        if not self.is_initialized:\n",
        "            input_size = input_data.shape[-1]\n",
        "\n",
        "            self.hidden_layer_weights = tf.Variable(tf.random.normal([input_size, 2]), name=\"hidden_weights\")\n",
        "            self.hidden_layer_bias = tf.Variable(tf.zeros([2]), name=\"hidden_bias\")\n",
        "\n",
        "            self.output_layer_weights = tf.Variable(tf.random.normal([2, 1]), name=\"output_weights\")\n",
        "            self.output_layer_bias = tf.Variable(tf.zeros([1]), name=\"output_bias\")\n",
        "\n",
        "            self.is_initialized = True\n",
        "\n",
        "        hidden_activations = tf.sigmoid(tf.add(tf.matmul(input_data, self.hidden_layer_weights), self.hidden_layer_bias))\n",
        "        model_output = tf.sigmoid(tf.add(tf.matmul(hidden_activations, self.output_layer_weights), self.output_layer_bias))\n",
        "\n",
        "        return model_output\n",
        "\n",
        "def calculate_error(predicted_output, target_output):\n",
        "    return tf.reduce_mean(tf.square(predicted_output - target_output))\n",
        "\n",
        "def train_xor_model(model, training_inputs, training_outputs, learning_rate=0.5, training_epochs=10000):\n",
        "    model_optimizer = tf.optimizers.SGD(learning_rate=learning_rate)\n",
        "\n",
        "    for epoch in range(training_epochs):\n",
        "        with tf.GradientTape() as tape:\n",
        "            current_predictions = model(training_inputs)\n",
        "            current_loss = calculate_error(current_predictions, training_outputs)\n",
        "\n",
        "        model_gradients = tape.gradient(current_loss, model.trainable_variables)\n",
        "        model_optimizer.apply_gradients(zip(model_gradients, model.trainable_variables))\n",
        "\n",
        "        if epoch % 1000 == 0:\n",
        "            model_accuracy = evaluate_accuracy(model, training_inputs, training_outputs)\n",
        "            print(f\"Epoch {epoch}, Loss: {current_loss.numpy():.4f}, Accuracy: {model_accuracy:.4f}\")\n",
        "\n",
        "def evaluate_accuracy(model, input_data, target_output):\n",
        "    predictions = model(input_data)\n",
        "    rounded_predictions = tf.round(predictions)\n",
        "    correct_predictions = tf.equal(rounded_predictions, target_output)\n",
        "    return tf.reduce_mean(tf.cast(correct_predictions, tf.float32)).numpy()\n",
        "\n"
      ],
      "metadata": {
        "id": "us-jH9eEH3QL"
      },
      "execution_count": 52,
      "outputs": []
    },
    {
      "cell_type": "code",
      "source": [
        "# Prepare XOR dataset\n",
        "xor_truth_table = np.array([[0, 0, 0],\n",
        "                          [1, 0, 1],\n",
        "                          [0, 1, 1],\n",
        "                          [1, 1, 0]], dtype=np.float32)\n",
        "\n",
        "training_inputs = xor_truth_table[:, :2]\n",
        "training_outputs = xor_truth_table[:, 2:]\n",
        "\n",
        "xor_neural_network = XOR_Model()\n",
        "train_xor_model(xor_neural_network, training_inputs, training_outputs)\n",
        "\n",
        "hidden_weights = xor_neural_network.hidden_layer_weights.numpy()\n",
        "hidden_biases = xor_neural_network.hidden_layer_bias.numpy()\n",
        "output_weights = xor_neural_network.output_layer_weights.numpy()\n",
        "output_bias = xor_neural_network.output_layer_bias.numpy()\n",
        "\n",
        "print(f\"\\nLearned weights for hidden layer:\\n{hidden_weights}\")\n",
        "print(f\"Learned biases for hidden layer:\\n{hidden_biases}\")\n",
        "print(f\"Learned weights for output layer:\\n{output_weights}\")\n",
        "print(f\"Learned bias for output layer:\\n{output_bias}\\n\")\n",
        "\n",
        "\n",
        "predicted_outputs = xor_neural_network(training_inputs).numpy().round().astype(np.uint8)\n",
        "predicted_truth_table = np.column_stack((xor_truth_table[:, :2], predicted_outputs))\n",
        "\n",
        "print(\"Predicted Truth Table:\")\n",
        "print(predicted_truth_table)\n",
        "\n",
        "print(\"\\nCorrect?\", np.allclose(xor_truth_table, predicted_truth_table))"
      ],
      "metadata": {
        "colab": {
          "base_uri": "https://localhost:8080/"
        },
        "id": "ZVk5tDmfIXJl",
        "outputId": "de841cbd-4645-4799-a01c-72ce627f47c5"
      },
      "execution_count": 53,
      "outputs": [
        {
          "output_type": "stream",
          "name": "stdout",
          "text": [
            "Epoch 0, Loss: 0.3192, Accuracy: 0.5000\n",
            "Epoch 1000, Loss: 0.0532, Accuracy: 1.0000\n",
            "Epoch 2000, Loss: 0.0066, Accuracy: 1.0000\n",
            "Epoch 3000, Loss: 0.0032, Accuracy: 1.0000\n",
            "Epoch 4000, Loss: 0.0020, Accuracy: 1.0000\n",
            "Epoch 5000, Loss: 0.0015, Accuracy: 1.0000\n",
            "Epoch 6000, Loss: 0.0012, Accuracy: 1.0000\n",
            "Epoch 7000, Loss: 0.0010, Accuracy: 1.0000\n",
            "Epoch 8000, Loss: 0.0008, Accuracy: 1.0000\n",
            "Epoch 9000, Loss: 0.0007, Accuracy: 1.0000\n",
            "\n",
            "Learned weights for hidden layer:\n",
            "[[-5.490241  -5.922167 ]\n",
            " [ 5.6694126  5.777793 ]]\n",
            "Learned biases for hidden layer:\n",
            "[ 2.763317  -3.1443732]\n",
            "Learned weights for output layer:\n",
            "[[-8.60001 ]\n",
            " [ 8.871549]]\n",
            "Learned bias for output layer:\n",
            "[4.0590763]\n",
            "\n",
            "Predicted Truth Table:\n",
            "[[0. 0. 0.]\n",
            " [1. 0. 1.]\n",
            " [0. 1. 1.]\n",
            " [1. 1. 0.]]\n",
            "\n",
            "Correct? True\n"
          ]
        }
      ]
    }
  ]
}